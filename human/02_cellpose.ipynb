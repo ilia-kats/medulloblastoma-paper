{
 "cells": [
  {
   "cell_type": "markdown",
   "id": "90a15d55",
   "metadata": {},
   "source": [
    "In this notebook we will segment the nuclei of one sample using its DAPI image and cellpose."
   ]
  },
  {
   "cell_type": "code",
   "execution_count": 21,
   "id": "729bb320",
   "metadata": {},
   "outputs": [],
   "source": [
    "import os\n",
    "\n",
    "import numpy as np\n",
    "import tifffile\n",
    "from PIL import Image\n",
    "\n",
    "import cellpose"
   ]
  },
  {
   "cell_type": "markdown",
   "id": "e2594fc9",
   "metadata": {},
   "source": [
    "We read in the image first."
   ]
  },
  {
   "cell_type": "code",
   "execution_count": 2,
   "id": "2d2c191a",
   "metadata": {},
   "outputs": [],
   "source": [
    "img = tifffile.imread(\"../../raw_data/2022-06/images/2022-03-02/capture area 4/FFPE_run3_20220302_Layer3-EFI 20x_04_CH0-DAPI.tif\")"
   ]
  },
  {
   "cell_type": "markdown",
   "id": "00d97390",
   "metadata": {},
   "source": [
    "We now set up the cellpose model and segment the image."
   ]
  },
  {
   "cell_type": "code",
   "execution_count": 4,
   "id": "1409a886",
   "metadata": {},
   "outputs": [],
   "source": [
    "model = cellpose.models.Cellpose(gpu=True, model_type=\"nuclei\")"
   ]
  },
  {
   "cell_type": "code",
   "execution_count": 5,
   "id": "d89a96ab",
   "metadata": {
    "scrolled": false
   },
   "outputs": [
    {
     "name": "stderr",
     "output_type": "stream",
     "text": [
      "more than 65535 masks in image, masks returned as np.uint32\n"
     ]
    }
   ],
   "source": [
    "masks, flows, styles, diams = model.eval(img, channels=[0, 0], tile=True, resample=False)"
   ]
  },
  {
   "cell_type": "code",
   "execution_count": 22,
   "id": "79b4acc1",
   "metadata": {},
   "outputs": [],
   "source": [
    "os.makedirs(\"segmentation\")"
   ]
  },
  {
   "cell_type": "markdown",
   "id": "2ca310a5",
   "metadata": {},
   "source": [
    "We write out a QC image where the masks are shown in red on top of the DAPI image."
   ]
  },
  {
   "cell_type": "code",
   "execution_count": 23,
   "id": "5f9d7145",
   "metadata": {},
   "outputs": [],
   "source": [
    "im = Image.fromarray(cellpose.plot.outline_view(cellpose.plot.image_to_rgb(img), masks, color=[255, 0, 0]))\n",
    "im.save(\"segmentation/3.4_cellpose.png\")"
   ]
  },
  {
   "cell_type": "markdown",
   "id": "499daa60",
   "metadata": {},
   "source": [
    "We also write out the masks as a NumPy array for further processing."
   ]
  },
  {
   "cell_type": "code",
   "execution_count": 24,
   "id": "3e26964f",
   "metadata": {},
   "outputs": [
    {
     "name": "stderr",
     "output_type": "stream",
     "text": [
      "/home/kats/.local/lib/python3.10/site-packages/numpy/lib/npyio.py:719: VisibleDeprecationWarning: Creating an ndarray from ragged nested sequences (which is a list-or-tuple of lists-or-tuples-or ndarrays with different lengths or shapes) is deprecated. If you meant to do this, you must specify 'dtype=object' when creating the ndarray.\n",
      "  val = np.asanyarray(val)\n"
     ]
    }
   ],
   "source": [
    "np.savez_compressed(\"segmentation/3.4_cellpose.npz\", masks=masks, flows=flows, styles=styles)"
   ]
  }
 ],
 "metadata": {
  "kernelspec": {
   "display_name": "cellpose",
   "language": "python",
   "name": "cellpose"
  },
  "language_info": {
   "codemirror_mode": {
    "name": "ipython",
    "version": 3
   },
   "file_extension": ".py",
   "mimetype": "text/x-python",
   "name": "python",
   "nbconvert_exporter": "python",
   "pygments_lexer": "ipython3",
   "version": "3.10.1"
  }
 },
 "nbformat": 4,
 "nbformat_minor": 5
}
